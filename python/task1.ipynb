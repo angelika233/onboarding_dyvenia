{
 "cells": [
  {
   "cell_type": "markdown",
   "metadata": {},
   "source": [
    "Task 1 Python : create_profile() "
   ]
  },
  {
   "cell_type": "code",
   "execution_count": 63,
   "metadata": {},
   "outputs": [],
   "source": [
    "def create_profile(*args, **kwargs):\n",
    "    # Full Name\n",
    "    a=[]\n",
    "    for i in args:\n",
    "        a.append(i)\n",
    "    for i in range(len(a)):\n",
    "        if i<len(a) -1:\n",
    "            print(a[i], end = ' ')\n",
    "        else:\n",
    "            print(a[i])\n",
    "\n",
    "    # Rest\n",
    "    for i, j in kwargs.items():\n",
    "        print(i +': ' + str(j))\n",
    "        "
   ]
  },
  {
   "cell_type": "code",
   "execution_count": 60,
   "metadata": {},
   "outputs": [
    {
     "name": "stdout",
     "output_type": "stream",
     "text": [
      "John "
     ]
    }
   ],
   "source": [
    "create_profile('John')"
   ]
  },
  {
   "cell_type": "code",
   "execution_count": 64,
   "metadata": {},
   "outputs": [
    {
     "name": "stdout",
     "output_type": "stream",
     "text": [
      "John\n",
      "role: Student\n"
     ]
    }
   ],
   "source": [
    "create_profile('John', role='Student')"
   ]
  },
  {
   "cell_type": "code",
   "execution_count": 65,
   "metadata": {},
   "outputs": [
    {
     "name": "stdout",
     "output_type": "stream",
     "text": [
      "Diego Armando Maradona\n",
      "profession: footballer\n",
      "born: 1960\n",
      "died: 2020\n"
     ]
    }
   ],
   "source": [
    "create_profile('Diego', 'Armando', 'Maradona', profession='footballer', born=1960, died=2020)"
   ]
  },
  {
   "cell_type": "code",
   "execution_count": 66,
   "metadata": {},
   "outputs": [
    {
     "name": "stdout",
     "output_type": "stream",
     "text": [
      "Sara Jessica Parker\n",
      "profession: Actress\n",
      "husband: Matthew Broderick\n"
     ]
    }
   ],
   "source": [
    "create_profile(\"Sara\", \"Jessica\", \"Parker\", profession=\"Actress\", husband=\"Matthew Broderick\" )"
   ]
  }
 ],
 "metadata": {
  "interpreter": {
   "hash": "bb82832c524eafa737fa5844da7c03df642b23f3c0fd2513dc0efc5373af3846"
  },
  "kernelspec": {
   "display_name": "Python 3.10.1 64-bit",
   "language": "python",
   "name": "python3"
  },
  "language_info": {
   "codemirror_mode": {
    "name": "ipython",
    "version": 3
   },
   "file_extension": ".py",
   "mimetype": "text/x-python",
   "name": "python",
   "nbconvert_exporter": "python",
   "pygments_lexer": "ipython3",
   "version": "3.10.1"
  },
  "orig_nbformat": 4
 },
 "nbformat": 4,
 "nbformat_minor": 2
}
