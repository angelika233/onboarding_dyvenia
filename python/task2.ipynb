{
 "cells": [
  {
   "cell_type": "markdown",
   "metadata": {},
   "source": [
    "Task 2: Online Shopping"
   ]
  },
  {
   "cell_type": "code",
   "execution_count": 2,
   "metadata": {},
   "outputs": [
    {
     "name": "stdout",
     "output_type": "stream",
     "text": [
      "True\n",
      "False\n",
      "True\n",
      "True\n"
     ]
    }
   ],
   "source": [
    "from product import Product\n",
    "from review import Review\n",
    "from user import User\n",
    "\n",
    "brianna = User(1, \"Brianna\")\n",
    "mary = User(2, \"Marry\")\n",
    "\n",
    "keyboard = brianna.sell_product(\"keyboard\", \"nice keyboard\", 100)\n",
    "print(keyboard.available)\n",
    "mary.buy_product(keyboard)\n",
    "print(keyboard.available)\n",
    "review = mary.write_review(\"The best keyboard\", keyboard)\n",
    "review2 = mary.write_review(\"cool keyboard\", keyboard)\n",
    "print(review in keyboard.reviews)\n",
    "print(review in mary.reviews)"
   ]
  }
 ],
 "metadata": {
  "interpreter": {
   "hash": "bb82832c524eafa737fa5844da7c03df642b23f3c0fd2513dc0efc5373af3846"
  },
  "kernelspec": {
   "display_name": "Python 3.10.1 64-bit",
   "language": "python",
   "name": "python3"
  },
  "language_info": {
   "codemirror_mode": {
    "name": "ipython",
    "version": 3
   },
   "file_extension": ".py",
   "mimetype": "text/x-python",
   "name": "python",
   "nbconvert_exporter": "python",
   "pygments_lexer": "ipython3",
   "version": "3.10.1"
  },
  "orig_nbformat": 4
 },
 "nbformat": 4,
 "nbformat_minor": 2
}
